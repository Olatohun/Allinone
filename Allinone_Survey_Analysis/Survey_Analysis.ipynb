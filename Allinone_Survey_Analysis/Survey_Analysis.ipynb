{
 "cells": [
  {
   "cell_type": "markdown",
   "id": "8a84203a",
   "metadata": {},
   "source": [
    "# Setting up Libraries"
   ]
  },
  {
   "cell_type": "code",
   "execution_count": 33,
   "id": "752181e3",
   "metadata": {},
   "outputs": [],
   "source": [
    "import numpy as np\n",
    "import pandas as pd\n",
    "import matplotlib.pyplot as plt\n",
    "%matplotlib inline\n",
    "import seaborn as sns"
   ]
  },
  {
   "cell_type": "code",
   "execution_count": 34,
   "id": "47e16a95",
   "metadata": {},
   "outputs": [],
   "source": [
    "data = pd.read_csv('Allinone.csv')"
   ]
  },
  {
   "cell_type": "code",
   "execution_count": 35,
   "id": "598e4fed",
   "metadata": {
    "scrolled": false
   },
   "outputs": [
    {
     "data": {
      "text/plain": [
       "Index(['Timestamp', 'Do you own a mobile phone?',\n",
       "       'Do you use your mobile phone for any financial/ banking transactions?',\n",
       "       'Do you operate a bank account?',\n",
       "       'What type of bank account do you operate?',\n",
       "       'Who provides your mobile banking service?',\n",
       "       'Is your mobile banking service an addition to existing bank account or separate service?',\n",
       "       'What type of Mobile Money transaction do you frequently make use? (Select all that applies)',\n",
       "       'How often do you make perform transactions based on the above [Airtime recharge]',\n",
       "       'How often do you make perform transactions based on the above [Fund transfer]',\n",
       "       'How often do you make perform transactions based on the above [Balance inquiry / Bank statement]',\n",
       "       'How often do you make perform transactions based on the above [Bill payment]',\n",
       "       'How often do you make perform transactions based on the above [International Remittance]',\n",
       "       'How often do you make perform transactions based on the above [Savings]',\n",
       "       'How often do you make perform transactions based on the above [Cash withdrawal]',\n",
       "       'How often do you make perform transactions based on the above [Purchasing]',\n",
       "       'How often do you make perform transactions based on the above [Commodity dealing / investment]',\n",
       "       'How often do you make perform transactions based on the above [Pension fund management]',\n",
       "       ' How do you typically transfer money? (Select all that applies)',\n",
       "       'Do you generally send, receive, or do both (send and receive)?',\n",
       "       'With whom do you generally undertake transfer of funds? [Family ]',\n",
       "       'With whom do you generally undertake transfer of funds? [Friends]',\n",
       "       'With whom do you generally undertake transfer of funds? [Employer/Employee ]',\n",
       "       'With whom do you generally undertake transfer of funds? [Government (Remita, e.t.c)]',\n",
       "       'How do you typically pay your bills? (Select all that applies)',\n",
       "       'What type of bills do you pay on your mobile phone? (Select all that applies)',\n",
       "       'Do you think Mobile banking services are easily accessible than traditional banking services?',\n",
       "       'On a scale of 1 to 3 (low to high), how would you rate your knowledge of all the banking services available through your [Bank]',\n",
       "       'On a scale of 1 to 3 (low to high), how would you rate your knowledge of all the banking services available through your [Mobile banking service]',\n",
       "       'On a scale of 1 to 3, 1 being the lowest and 3 being the highest, how would you rate your ability to use the following devices? [Mobile Phone ]',\n",
       "       'On a scale of 1 to 3, 1 being the lowest and 3 being the highest, how would you rate your ability to use the following devices? [ATM machine]',\n",
       "       'On a scale of 1 to 3, 1 being the lowest and 3 being the highest, how would you rate your ability to use the following devices? [Internet]',\n",
       "       'On a scale of 1 to 3, 1 being the lowest and 3 being the highest, how would you rate your ability to use the following devices? [POS]',\n",
       "       'On a scale of 1 to 3, 1 being the lowest and 3 being the highest, how would you rate your ability to use the following devices? [Debit card]',\n",
       "       'On a scale of 1 to 3, 1 being the lowest and 3 being the highest, how would you rate your ability to use the following devices? [Prepaid card]',\n",
       "       'On a scale of 1 to 3, 1 being Not True and 3 being True, How would you rate the following statements about your mobile banking menu on your phone?  [My mobile banking menu is very easy to navigate]',\n",
       "       'On a scale of 1 to 3, 1 being Not True and 3 being True, How would you rate the following statements about your mobile banking menu on your phone?  [My mobile banking menu is very easy to understand]',\n",
       "       'On a scale of 1 to 3, 1 being Not True and 3 being True, How would you rate the following statements about your mobile banking menu on your phone?  [It is easy to make a payment]',\n",
       "       'On a scale of 1 to 3, 1 being Not True and 3 being True, How would you rate the following statements about your mobile banking menu on your phone?  [t is easy to make transfer money]',\n",
       "       'On a scale of 1 to 3, 1 being Not True and 3 being True, How would you rate the following statements about your mobile banking menu on your phone?  [It is easy to make a balance inquiry]',\n",
       "       'On a scale of 1 to 3, 1 being the lowest and 3 being the highest, please rate your view on mobile banking service? [Overall Trust]',\n",
       "       'On a scale of 1 to 3, 1 being the lowest and 3 being the highest, please rate your view on mobile banking service? [Trust in banks]',\n",
       "       'On a scale of 1 to 3, 1 being the lowest and 3 being the highest, please rate your view on mobile banking service? [Trust in the technology of mobile banking]',\n",
       "       'On a scale of 1 to 3, 1 being the lowest and 3 being the highest, please rate your view on mobile banking service? [Trust in third party agent (e.g., pay outlet, cash-out point]',\n",
       "       'On a scale of 1 to 3, 1 being the lowest and 3 being the highest, please rate your view on mobile banking service? [Security from fraud]',\n",
       "       'On a scale of 1 to 3, 1 being the lowest and 3 being the highest, please rate your view on mobile banking service? [Ease of use]',\n",
       "       'On a scale of 1 to 3, 1 being the lowest and 3 being the highest, how would you rate the following benefits of Mobile Banking? [Cost saving (Lower rates, transaction fees) 1 2 3 4 5]',\n",
       "       'On a scale of 1 to 3, 1 being the lowest and 3 being the highest, how would you rate the following benefits of Mobile Banking? [Time saving (no need to go to bank or ATM)]',\n",
       "       'On a scale of 1 to 3, 1 being the lowest and 3 being the highest, how would you rate the following benefits of Mobile Banking? [24 h Access (can make transaction any time)]',\n",
       "       'On a scale of 1 to 3, 1 being the lowest and 3 being the highest, how would you rate the following benefits of Mobile Banking? [Physical security (no need to go out with cash)]',\n",
       "       'On a scale of 1 to 3, 1 being the lowest and 3 being the highest, how would you rate the following benefits of Mobile Banking? [Others (please specify)_________]',\n",
       "       'Please rate how important the following reasons are for you to consider using mobile banking (Single Coding for each option): 1 is Very Important to 3 which is Not Important At All [Lower transaction costs]',\n",
       "       'Please rate how important the following reasons are for you to consider using mobile banking (Single Coding for each option): 1 is Very Important to 3 which is Not Important At All [Security from fraud]',\n",
       "       'Please rate how important the following reasons are for you to consider using mobile banking (Single Coding for each option): 1 is Very Important to 3 which is Not Important At All [Physical security]',\n",
       "       'Please rate how important the following reasons are for you to consider using mobile banking (Single Coding for each option): 1 is Very Important to 3 which is Not Important At All [Safe transaction with feedback on transfer (e.g. sms)]',\n",
       "       'Please rate how important the following reasons are for you to consider using mobile banking (Single Coding for each option): 1 is Very Important to 3 which is Not Important At All [Wide acceptance of mobile money]',\n",
       "       'Please rate how important the following reasons are for you to consider using mobile banking (Single Coding for each option): 1 is Very Important to 3 which is Not Important At All [More locations I can cash-out my money]',\n",
       "       'Please rate how important the following reasons are for you to consider using mobile banking (Single Coding for each option): 1 is Very Important to 3 which is Not Important At All [Other (specify)]',\n",
       "       'Unnamed: 58', 'Unnamed: 59', 'Unnamed: 60', 'Unnamed: 61',\n",
       "       'Unnamed: 62'],\n",
       "      dtype='object')"
      ]
     },
     "execution_count": 35,
     "metadata": {},
     "output_type": "execute_result"
    }
   ],
   "source": [
    "data.columns"
   ]
  },
  {
   "cell_type": "code",
   "execution_count": 36,
   "id": "52944f2d",
   "metadata": {},
   "outputs": [],
   "source": [
    "data = data.drop(['Unnamed: 58', 'Unnamed: 59', 'Unnamed: 60', 'Unnamed: 61', 'Unnamed: 62'], axis=1)"
   ]
  },
  {
   "cell_type": "markdown",
   "id": "92eef19b",
   "metadata": {},
   "source": [
    "# Manually renaming columns"
   ]
  },
  {
   "cell_type": "code",
   "execution_count": 37,
   "id": "f4406d7b",
   "metadata": {},
   "outputs": [],
   "source": [
    "newcols = ['Timestamp', \n",
    "                'PhoneUser', \n",
    "                'MobileBanking', \n",
    "                'BankAccount',\n",
    "                'AccountType',\n",
    "                'ServiceProvider',\n",
    "                'PlusBankaccount',\n",
    "                'TransactionActivity',\n",
    "                'Airtime',\n",
    "                'FundTransfer',\n",
    "                'Inquiries',\n",
    "                'BillPayment',\n",
    "                'IntlRemittance',\n",
    "                'Savings',\n",
    "                'Withdrawals',\n",
    "                'Purchasing',\n",
    "                'Investments',\n",
    "                'PensionFund',\n",
    "                'TransferFunnel',\n",
    "                'SendRecieve',\n",
    "                'Transfer_Family',\n",
    "                'Transfer_Friends',\n",
    "                'Employer_Employee',\n",
    "                'Transfer_Government',\n",
    "                'BillPayments',\n",
    "                'BillpaymentType',\n",
    "                'Accessibility',\n",
    "                'BankKnowledge',\n",
    "                'MBSKnowledge',\n",
    "                'MobileUsability',\n",
    "                'ATMUsability',\n",
    "                'InternetUsability',\n",
    "                'POSUsability',\n",
    "                'DebitcardUsability',\n",
    "                'PrepaidcardUsability',\n",
    "                'Navigation',\n",
    "                'Understandable',\n",
    "                'Payment',\n",
    "                'Transfer_Ease',\n",
    "                'InquiryEase',\n",
    "                'BST_Overall',\n",
    "                'BST_banks',\n",
    "                'BST_technology',\n",
    "                'BST_thirdparty',\n",
    "                'Security',\n",
    "                'Usage',\n",
    "                'Cost',\n",
    "                'Time',\n",
    "                'Access',\n",
    "                'Physical_security',\n",
    "                'Specifics',\n",
    "                'LTC_Importance',\n",
    "                'SFF_Importance',\n",
    "                'PS_Importance',\n",
    "                'Feedback_Importance',\n",
    "                'Range_Importance',\n",
    "                'TA__Importance',\n",
    "                'Specific_Importance']"
   ]
  },
  {
   "cell_type": "code",
   "execution_count": 38,
   "id": "90e1b0cc",
   "metadata": {},
   "outputs": [],
   "source": [
    "# creating a schema for the survey questions\n",
    "oldcols = data.columns\n",
    "\n",
    "survey_schema = pd.DataFrame({\"Column\": newcols, \n",
    "                              \"Question\": oldcols})\n",
    "\n",
    "survey_schema.to_csv('survey_schema.csv', index=False)"
   ]
  },
  {
   "cell_type": "code",
   "execution_count": 39,
   "id": "5b554893",
   "metadata": {
    "scrolled": true
   },
   "outputs": [
    {
     "data": {
      "text/html": [
       "<div>\n",
       "<style scoped>\n",
       "    .dataframe tbody tr th:only-of-type {\n",
       "        vertical-align: middle;\n",
       "    }\n",
       "\n",
       "    .dataframe tbody tr th {\n",
       "        vertical-align: top;\n",
       "    }\n",
       "\n",
       "    .dataframe thead th {\n",
       "        text-align: right;\n",
       "    }\n",
       "</style>\n",
       "<table border=\"1\" class=\"dataframe\">\n",
       "  <thead>\n",
       "    <tr style=\"text-align: right;\">\n",
       "      <th></th>\n",
       "      <th>Column</th>\n",
       "      <th>Question</th>\n",
       "    </tr>\n",
       "  </thead>\n",
       "  <tbody>\n",
       "    <tr>\n",
       "      <th>53</th>\n",
       "      <td>PS_Importance</td>\n",
       "      <td>Please rate how important the following reason...</td>\n",
       "    </tr>\n",
       "    <tr>\n",
       "      <th>54</th>\n",
       "      <td>Feedback_Importance</td>\n",
       "      <td>Please rate how important the following reason...</td>\n",
       "    </tr>\n",
       "    <tr>\n",
       "      <th>55</th>\n",
       "      <td>Range_Importance</td>\n",
       "      <td>Please rate how important the following reason...</td>\n",
       "    </tr>\n",
       "    <tr>\n",
       "      <th>56</th>\n",
       "      <td>TA__Importance</td>\n",
       "      <td>Please rate how important the following reason...</td>\n",
       "    </tr>\n",
       "    <tr>\n",
       "      <th>57</th>\n",
       "      <td>Specific_Importance</td>\n",
       "      <td>Please rate how important the following reason...</td>\n",
       "    </tr>\n",
       "  </tbody>\n",
       "</table>\n",
       "</div>"
      ],
      "text/plain": [
       "                 Column                                           Question\n",
       "53        PS_Importance  Please rate how important the following reason...\n",
       "54  Feedback_Importance  Please rate how important the following reason...\n",
       "55     Range_Importance  Please rate how important the following reason...\n",
       "56       TA__Importance  Please rate how important the following reason...\n",
       "57  Specific_Importance  Please rate how important the following reason..."
      ]
     },
     "execution_count": 39,
     "metadata": {},
     "output_type": "execute_result"
    }
   ],
   "source": [
    "survey_df = pd.read_csv('survey_schema.csv')\n",
    "survey_df.tail()"
   ]
  },
  {
   "cell_type": "code",
   "execution_count": 40,
   "id": "5dbbee3c",
   "metadata": {},
   "outputs": [],
   "source": [
    "# Assigning new column titles to original survey csv\n",
    "data.columns = newcols"
   ]
  },
  {
   "cell_type": "markdown",
   "id": "48478f61",
   "metadata": {},
   "source": [
    "# Cleaning the Data"
   ]
  },
  {
   "cell_type": "code",
   "execution_count": 41,
   "id": "9ccab713",
   "metadata": {},
   "outputs": [],
   "source": [
    "data = data.drop('Timestamp', axis=1)"
   ]
  },
  {
   "cell_type": "code",
   "execution_count": 42,
   "id": "74ac4d55",
   "metadata": {},
   "outputs": [
    {
     "data": {
      "text/plain": [
       "<AxesSubplot:>"
      ]
     },
     "execution_count": 42,
     "metadata": {},
     "output_type": "execute_result"
    },
    {
     "data": {
      "image/png": "[encoded data removed]",
      "text/plain": [
       "<Figure size 720x720 with 1 Axes>"
      ]
     },
     "metadata": {
      "needs_background": "light"
     },
     "output_type": "display_data"
    }
   ],
   "source": [
    "# Visualizing the distribution of missing values\n",
    "fig, ax = plt.subplots(figsize=(10,10))\n",
    "sns.heatmap(data.isnull(),cbar=False,cmap='viridis')"
   ]
  },
  {
   "cell_type": "code",
   "execution_count": 43,
   "id": "18e05132",
   "metadata": {},
   "outputs": [
    {
     "data": {
      "text/plain": [
       "PhoneUser                0\n",
       "MobileBanking            0\n",
       "BankAccount              0\n",
       "AccountType              0\n",
       "ServiceProvider          0\n",
       "PlusBankaccount          2\n",
       "TransactionActivity      0\n",
       "Airtime                  8\n",
       "FundTransfer             2\n",
       "Inquiries               17\n",
       "BillPayment             23\n",
       "IntlRemittance          59\n",
       "Savings                 39\n",
       "Withdrawals             23\n",
       "Purchasing              36\n",
       "Investments             55\n",
       "PensionFund             61\n",
       "TransferFunnel           0\n",
       "SendRecieve              0\n",
       "Transfer_Family          2\n",
       "Transfer_Friends         3\n",
       "Employer_Employee       39\n",
       "Transfer_Government     43\n",
       "BillPayments             3\n",
       "BillpaymentType          4\n",
       "Accessibility            0\n",
       "BankKnowledge            8\n",
       "MBSKnowledge             5\n",
       "MobileUsability          2\n",
       "ATMUsability             2\n",
       "InternetUsability        4\n",
       "POSUsability             2\n",
       "DebitcardUsability       7\n",
       "PrepaidcardUsability    21\n",
       "Navigation               3\n",
       "Understandable           5\n",
       "Payment                  5\n",
       "Transfer_Ease            3\n",
       "InquiryEase              3\n",
       "BST_Overall              6\n",
       "BST_banks                5\n",
       "BST_technology           6\n",
       "BST_thirdparty           6\n",
       "Security                 9\n",
       "Usage                    6\n",
       "Cost                     2\n",
       "Time                     3\n",
       "Access                   3\n",
       "Physical_security        4\n",
       "Specifics               62\n",
       "LTC_Importance           4\n",
       "SFF_Importance           3\n",
       "PS_Importance            7\n",
       "Feedback_Importance      6\n",
       "Range_Importance         7\n",
       "TA__Importance           6\n",
       "Specific_Importance     56\n",
       "dtype: int64"
      ]
     },
     "execution_count": 43,
     "metadata": {},
     "output_type": "execute_result"
    }
   ],
   "source": [
    "# output percentage of values that are missing\n",
    "data.isnull().sum()"
   ]
  },
  {
   "cell_type": "code",
   "execution_count": 44,
   "id": "ced1dc94",
   "metadata": {},
   "outputs": [],
   "source": [
    "# numerical data\n",
    "floats = data.select_dtypes(include='float64')\n",
    "\n",
    "# categorical data\n",
    "objects = data.select_dtypes(include='object')"
   ]
  },
  {
   "cell_type": "code",
   "execution_count": 45,
   "id": "f3b75646",
   "metadata": {},
   "outputs": [
    {
     "data": {
      "text/plain": [
       "BankKnowledge           0\n",
       "MBSKnowledge            0\n",
       "MobileUsability         0\n",
       "ATMUsability            0\n",
       "InternetUsability       0\n",
       "POSUsability            0\n",
       "DebitcardUsability      0\n",
       "PrepaidcardUsability    0\n",
       "Navigation              0\n",
       "Understandable          0\n",
       "Payment                 0\n",
       "Transfer_Ease           0\n",
       "InquiryEase             0\n",
       "BST_Overall             0\n",
       "BST_banks               0\n",
       "BST_technology          0\n",
       "BST_thirdparty          0\n",
       "Security                0\n",
       "Usage                   0\n",
       "Cost                    0\n",
       "Time                    0\n",
       "Access                  0\n",
       "Physical_security       0\n",
       "Specifics               0\n",
       "LTC_Importance          0\n",
       "SFF_Importance          0\n",
       "PS_Importance           0\n",
       "Feedback_Importance     0\n",
       "Range_Importance        0\n",
       "TA__Importance          0\n",
       "Specific_Importance     0\n",
       "dtype: int64"
      ]
     },
     "execution_count": 45,
     "metadata": {},
     "output_type": "execute_result"
    }
   ],
   "source": [
    "# Dealing with missing values from the numerical data\n",
    "floats = floats.transform(lambda x: x.fillna(x.mean().round()))\n",
    "floats.isnull().sum()"
   ]
  },
  {
   "cell_type": "code",
   "execution_count": 46,
   "id": "09e9a75a",
   "metadata": {},
   "outputs": [
    {
     "data": {
      "text/plain": [
       "PhoneUser              0\n",
       "MobileBanking          0\n",
       "BankAccount            0\n",
       "AccountType            0\n",
       "ServiceProvider        0\n",
       "PlusBankaccount        0\n",
       "TransactionActivity    0\n",
       "Airtime                0\n",
       "FundTransfer           0\n",
       "Inquiries              0\n",
       "BillPayment            0\n",
       "IntlRemittance         0\n",
       "Savings                0\n",
       "Withdrawals            0\n",
       "Purchasing             0\n",
       "Investments            0\n",
       "PensionFund            0\n",
       "TransferFunnel         0\n",
       "SendRecieve            0\n",
       "Transfer_Family        0\n",
       "Transfer_Friends       0\n",
       "Employer_Employee      0\n",
       "Transfer_Government    0\n",
       "BillPayments           0\n",
       "BillpaymentType        0\n",
       "Accessibility          0\n",
       "dtype: int64"
      ]
     },
     "execution_count": 46,
     "metadata": {},
     "output_type": "execute_result"
    }
   ],
   "source": [
    "# Dealing with the categorical data\n",
    "objects = objects.fillna(method='ffill').fillna(method='bfill')\n",
    "objects.isnull().sum()"
   ]
  },
  {
   "cell_type": "code",
   "execution_count": 47,
   "id": "5056ffcc",
   "metadata": {},
   "outputs": [],
   "source": [
    "# Combining Data\n",
    "df = pd.concat([objects, floats])"
   ]
  },
  {
   "cell_type": "markdown",
   "id": "1853716d",
   "metadata": {},
   "source": [
    "# Visualization and total count of variable entries"
   ]
  },
  {
   "cell_type": "markdown",
   "id": "cf6116aa",
   "metadata": {},
   "source": [
    "The flollowing cells will be used to show the total number of responses for every variable in the multichoice questions. the multichoice questions have distinct columns in the dataframe. For every column, there will be two cells; one of which shows the total counts and the other which will be used to plots the counts, if they vary."
   ]
  },
  {
   "cell_type": "code",
   "execution_count": 48,
   "id": "b3ea2bd5",
   "metadata": {},
   "outputs": [
    {
     "data": {
      "text/plain": [
       "Index(['PhoneUser', 'MobileBanking', 'BankAccount', 'AccountType',\n",
       "       'ServiceProvider', 'PlusBankaccount', 'TransactionActivity', 'Airtime',\n",
       "       'FundTransfer', 'Inquiries', 'BillPayment', 'IntlRemittance', 'Savings',\n",
       "       'Withdrawals', 'Purchasing', 'Investments', 'PensionFund',\n",
       "       'TransferFunnel', 'SendRecieve', 'Transfer_Family', 'Transfer_Friends',\n",
       "       'Employer_Employee', 'Transfer_Government', 'BillPayments',\n",
       "       'BillpaymentType', 'Accessibility', 'BankKnowledge', 'MBSKnowledge',\n",
       "       'MobileUsability', 'ATMUsability', 'InternetUsability', 'POSUsability',\n",
       "       'DebitcardUsability', 'PrepaidcardUsability', 'Navigation',\n",
       "       'Understandable', 'Payment', 'Transfer_Ease', 'InquiryEase',\n",
       "       'BST_Overall', 'BST_banks', 'BST_technology', 'BST_thirdparty',\n",
       "       'Security', 'Usage', 'Cost', 'Time', 'Access', 'Physical_security',\n",
       "       'Specifics', 'LTC_Importance', 'SFF_Importance', 'PS_Importance',\n",
       "       'Feedback_Importance', 'Range_Importance', 'TA__Importance',\n",
       "       'Specific_Importance'],\n",
       "      dtype='object')"
      ]
     },
     "execution_count": 48,
     "metadata": {},
     "output_type": "execute_result"
    }
   ],
   "source": [
    "df.columns"
   ]
  },
  {
   "cell_type": "code",
   "execution_count": 49,
   "id": "46e288c8",
   "metadata": {},
   "outputs": [
    {
     "data": {
      "text/plain": [
       "Yes    78\n",
       "Name: PhoneUser, dtype: int64"
      ]
     },
     "execution_count": 49,
     "metadata": {},
     "output_type": "execute_result"
    }
   ],
   "source": [
    "df.PhoneUser.value_counts().sort_values()\n",
    "# the phoneuser column has no varying entries and will therefore not be visualized"
   ]
  },
  {
   "cell_type": "code",
   "execution_count": 50,
   "id": "142a7197",
   "metadata": {},
   "outputs": [
    {
     "data": {
      "text/plain": [
       "No      2\n",
       "Yes    76\n",
       "Name: MobileBanking, dtype: int64"
      ]
     },
     "execution_count": 50,
     "metadata": {},
     "output_type": "execute_result"
    }
   ],
   "source": [
    "df.MobileBanking.value_counts().sort_values()"
   ]
  },
  {
   "cell_type": "code",
   "execution_count": 51,
   "id": "4941b94c",
   "metadata": {},
   "outputs": [
    {
     "data": {
      "text/plain": [
       "<AxesSubplot:title={'center':'Do you use your mobile for financial transactions'}>"
      ]
     },
     "execution_count": 51,
     "metadata": {},
     "output_type": "execute_result"
    },
    {
     "data": {
      "image/png": "[encoded data removed]",
      "text/plain": [
       "<Figure size 216x216 with 1 Axes>"
      ]
     },
     "metadata": {
      "needs_background": "light"
     },
     "output_type": "display_data"
    }
   ],
   "source": [
    "df.MobileBanking.value_counts().plot(kind='bar', figsize=(3,3), title='Do you use your mobile for financial transactions', color='#800080')"
   ]
  },
  {
   "cell_type": "code",
   "execution_count": 52,
   "id": "2ecfb0d8",
   "metadata": {},
   "outputs": [
    {
     "data": {
      "text/plain": [
       "Yes    78\n",
       "Name: BankAccount, dtype: int64"
      ]
     },
     "execution_count": 52,
     "metadata": {},
     "output_type": "execute_result"
    }
   ],
   "source": [
    "df.BankAccount.value_counts().sort_values()"
   ]
  },
  {
   "cell_type": "code",
   "execution_count": 53,
   "id": "f79b82bf",
   "metadata": {},
   "outputs": [
    {
     "data": {
      "text/plain": [
       "Current     1\n",
       "Both       15\n",
       "Savings    62\n",
       "Name: AccountType, dtype: int64"
      ]
     },
     "execution_count": 53,
     "metadata": {},
     "output_type": "execute_result"
    }
   ],
   "source": [
    "df.AccountType.value_counts().sort_values() "
   ]
  },
  {
   "cell_type": "code",
   "execution_count": 54,
   "id": "9fd8f170",
   "metadata": {},
   "outputs": [
    {
     "data": {
      "text/plain": [
       "<AxesSubplot:title={'center':'Account Type'}>"
      ]
     },
     "execution_count": 54,
     "metadata": {},
     "output_type": "execute_result"
    },
    {
     "data": {
      "image/png": "[encoded data removed]",
      "text/plain": [
       "<Figure size 216x216 with 1 Axes>"
      ]
     },
     "metadata": {
      "needs_background": "light"
     },
     "output_type": "display_data"
    }
   ],
   "source": [
    "df.AccountType.value_counts().plot(kind='bar', figsize=(3,3), title='Account Type', color='#800080')"
   ]
  },
  {
   "cell_type": "code",
   "execution_count": 55,
   "id": "fd368fe0",
   "metadata": {},
   "outputs": [
    {
     "data": {
      "text/plain": [
       "Don’t know / Not sure                             2\n",
       "Another company (Abeg, Kuda, PalmPay, e.t.c.)     2\n",
       "USSD Code                                        13\n",
       "Bank App                                         18\n",
       "Bank App and USSD Code                           43\n",
       "Name: ServiceProvider, dtype: int64"
      ]
     },
     "execution_count": 55,
     "metadata": {},
     "output_type": "execute_result"
    }
   ],
   "source": [
    "df.ServiceProvider.value_counts().sort_values()"
   ]
  },
  {
   "cell_type": "code",
   "execution_count": 56,
   "id": "15ca5827",
   "metadata": {},
   "outputs": [
    {
     "data": {
      "text/plain": [
       "<AxesSubplot:title={'center':'Service Provider'}>"
      ]
     },
     "execution_count": 56,
     "metadata": {},
     "output_type": "execute_result"
    },
    {
     "data": {
      "image/png": "[encoded data removed]",
      "text/plain": [
       "<Figure size 432x216 with 1 Axes>"
      ]
     },
     "metadata": {
      "needs_background": "light"
     },
     "output_type": "display_data"
    }
   ],
   "source": [
    "df.ServiceProvider.value_counts().plot(kind='bar', figsize=(6,3), title='Service Provider', color='#800080')"
   ]
  },
  {
   "cell_type": "code",
   "execution_count": 57,
   "id": "781c7ec4",
   "metadata": {},
   "outputs": [
    {
     "data": {
      "text/plain": [
       "Separate        9\n",
       "An addition    69\n",
       "Name: PlusBankaccount, dtype: int64"
      ]
     },
     "execution_count": 57,
     "metadata": {},
     "output_type": "execute_result"
    }
   ],
   "source": [
    "df.PlusBankaccount.value_counts().sort_values()"
   ]
  },
  {
   "cell_type": "code",
   "execution_count": 58,
   "id": "1f065807",
   "metadata": {},
   "outputs": [
    {
     "data": {
      "text/plain": [
       "<AxesSubplot:title={'center':'Is your mobile banking service an addition to existing bank account or separate service?'}>"
      ]
     },
     "execution_count": 58,
     "metadata": {},
     "output_type": "execute_result"
    },
    {
     "data": {
      "image/png": "[encoded data removed]",
      "text/plain": [
       "<Figure size 216x216 with 1 Axes>"
      ]
     },
     "metadata": {
      "needs_background": "light"
     },
     "output_type": "display_data"
    }
   ],
   "source": [
    "df.PlusBankaccount.value_counts().plot(kind='bar', figsize=(3,3), \n",
    "                                       title='Is your mobile banking service an addition to existing bank account or separate service?',\n",
    "                                       color='#800080')"
   ]
  },
  {
   "cell_type": "code",
   "execution_count": 59,
   "id": "711ff49f",
   "metadata": {},
   "outputs": [
    {
     "data": {
      "text/plain": [
       "Buying internet data                 1\n",
       "Pension fund management              2\n",
       "International Remittance             8\n",
       "Commodity dealing / investment      13\n",
       "Savings                             34\n",
       "Purchasing                          35\n",
       "Cash withdrawal                     43\n",
       "Balance inquiry / Bank statement    46\n",
       "Receive Money                       64\n",
       "Buying Airtime                      65\n",
       "Send Money                          76\n",
       "dtype: int64"
      ]
     },
     "execution_count": 59,
     "metadata": {},
     "output_type": "execute_result"
    }
   ],
   "source": [
    "lst = df.TransactionActivity.str.split(';', expand=True)\n",
    "transactions = lst.stack()\n",
    "transactions.value_counts().sort_values()"
   ]
  },
  {
   "cell_type": "code",
   "execution_count": 60,
   "id": "34c0c3ea",
   "metadata": {
    "scrolled": true
   },
   "outputs": [
    {
     "data": {
      "text/plain": [
       "<AxesSubplot:title={'center':'Transaction Type'}>"
      ]
     },
     "execution_count": 60,
     "metadata": {},
     "output_type": "execute_result"
    },
    {
     "data": {
      "image/png": "[encoded data removed]",
      "text/plain": [
       "<Figure size 720x216 with 1 Axes>"
      ]
     },
     "metadata": {
      "needs_background": "light"
     },
     "output_type": "display_data"
    }
   ],
   "source": [
    "transactions.value_counts().plot(kind='bar', figsize=(10,3), title='Transaction Type', color='#800080')"
   ]
  },
  {
   "cell_type": "code",
   "execution_count": 61,
   "id": "6d63711d",
   "metadata": {},
   "outputs": [
    {
     "data": {
      "text/plain": [
       "Occasionally (less than once a month)     4\n",
       "Monthly-several times                     6\n",
       "Weekly-several times                      7\n",
       "Daily-once                               13\n",
       "Weekly-Once                              20\n",
       "Daily –Several times                     28\n",
       "Name: Airtime, dtype: int64"
      ]
     },
     "execution_count": 61,
     "metadata": {},
     "output_type": "execute_result"
    }
   ],
   "source": [
    "df.Airtime.value_counts().sort_values()"
   ]
  },
  {
   "cell_type": "code",
   "execution_count": 62,
   "id": "b91ab8c7",
   "metadata": {},
   "outputs": [
    {
     "data": {
      "text/plain": [
       "<AxesSubplot:title={'center':'Airtime Purchase'}>"
      ]
     },
     "execution_count": 62,
     "metadata": {},
     "output_type": "execute_result"
    },
    {
     "data": {
      "image/png": "[encoded data removed]",
      "text/plain": [
       "<Figure size 360x216 with 1 Axes>"
      ]
     },
     "metadata": {
      "needs_background": "light"
     },
     "output_type": "display_data"
    }
   ],
   "source": [
    "df.Airtime.value_counts().plot(kind='bar', figsize=(5,3), title='Airtime Purchase')"
   ]
  },
  {
   "cell_type": "code",
   "execution_count": 63,
   "id": "cfab483a",
   "metadata": {},
   "outputs": [
    {
     "data": {
      "text/plain": [
       "Monthly-once                              1\n",
       "Monthly-several times                     2\n",
       "Occasionally (less than once a month)     4\n",
       "Daily-once                               14\n",
       "Weekly-Once                              17\n",
       "Daily –Several times                     18\n",
       "Weekly-several times                     22\n",
       "Name: FundTransfer, dtype: int64"
      ]
     },
     "execution_count": 63,
     "metadata": {},
     "output_type": "execute_result"
    }
   ],
   "source": [
    "df.FundTransfer.value_counts().sort_values()"
   ]
  },
  {
   "cell_type": "code",
   "execution_count": 64,
   "id": "da34866c",
   "metadata": {},
   "outputs": [
    {
     "data": {
      "text/plain": [
       "<AxesSubplot:title={'center':'Fund Transfer'}>"
      ]
     },
     "execution_count": 64,
     "metadata": {},
     "output_type": "execute_result"
    },
    {
     "data": {
      "image/png": "[encoded data removed]",
      "text/plain": [
       "<Figure size 432x216 with 1 Axes>"
      ]
     },
     "metadata": {
      "needs_background": "light"
     },
     "output_type": "display_data"
    }
   ],
   "source": [
    "df.FundTransfer.value_counts().plot(kind='bar', figsize=(6,3), title='Fund Transfer')"
   ]
  },
  {
   "cell_type": "code",
   "execution_count": 65,
   "id": "15ed666a",
   "metadata": {},
   "outputs": [
    {
     "data": {
      "text/plain": [
       "Monthly-once                              1\n",
       "Monthly-several times                     2\n",
       "Weekly-several times                      4\n",
       "Daily –Several times                     12\n",
       "Occasionally (less than once a month)    14\n",
       "Daily-once                               18\n",
       "Weekly-Once                              27\n",
       "Name: Inquiries, dtype: int64"
      ]
     },
     "execution_count": 65,
     "metadata": {},
     "output_type": "execute_result"
    }
   ],
   "source": [
    "df.Inquiries.value_counts().sort_values()"
   ]
  },
  {
   "cell_type": "code",
   "execution_count": 66,
   "id": "a0a0cb87",
   "metadata": {
    "scrolled": true
   },
   "outputs": [
    {
     "data": {
      "text/plain": [
       "<AxesSubplot:title={'center':'Balance inquiry / Bank statement'}>"
      ]
     },
     "execution_count": 66,
     "metadata": {},
     "output_type": "execute_result"
    },
    {
     "data": {
      "image/png": "[encoded data removed]",
      "text/plain": [
       "<Figure size 432x216 with 1 Axes>"
      ]
     },
     "metadata": {
      "needs_background": "light"
     },
     "output_type": "display_data"
    }
   ],
   "source": [
    "df.Inquiries.value_counts().plot(kind='bar', figsize=(6,3), title='Balance inquiry / Bank statement')"
   ]
  },
  {
   "cell_type": "code",
   "execution_count": 67,
   "id": "daca3e6c",
   "metadata": {
    "scrolled": true
   },
   "outputs": [
    {
     "data": {
      "text/plain": [
       "Monthly-once                              3\n",
       "Daily-once                                7\n",
       "Monthly-several times                     7\n",
       "Daily –Several times                      9\n",
       "Weekly-several times                     12\n",
       "Occasionally (less than once a month)    12\n",
       "Weekly-Once                              28\n",
       "Name: BillPayment, dtype: int64"
      ]
     },
     "execution_count": 67,
     "metadata": {},
     "output_type": "execute_result"
    }
   ],
   "source": [
    "df.BillPayment.value_counts().sort_values()"
   ]
  },
  {
   "cell_type": "code",
   "execution_count": 68,
   "id": "07a20c54",
   "metadata": {
    "scrolled": true
   },
   "outputs": [
    {
     "data": {
      "text/plain": [
       "<AxesSubplot:title={'center':'Bill Payment'}>"
      ]
     },
     "execution_count": 68,
     "metadata": {},
     "output_type": "execute_result"
    },
    {
     "data": {
      "image/png": "[encoded data removed]",
      "text/plain": [
       "<Figure size 432x216 with 1 Axes>"
      ]
     },
     "metadata": {
      "needs_background": "light"
     },
     "output_type": "display_data"
    }
   ],
   "source": [
    "df.BillPayment.value_counts().plot(kind='bar', figsize=(6,3), title='Bill Payment')"
   ]
  },
  {
   "cell_type": "code",
   "execution_count": 69,
   "id": "3e0d8c48",
   "metadata": {
    "scrolled": true
   },
   "outputs": [
    {
     "data": {
      "text/plain": [
       "Weekly-several times                      1\n",
       "Monthly-once                              1\n",
       "Monthly-several times                     3\n",
       "Daily –Several times                     16\n",
       "Weekly-Once                              26\n",
       "Occasionally (less than once a month)    31\n",
       "Name: IntlRemittance, dtype: int64"
      ]
     },
     "execution_count": 69,
     "metadata": {},
     "output_type": "execute_result"
    }
   ],
   "source": [
    "df.IntlRemittance.value_counts().sort_values()"
   ]
  },
  {
   "cell_type": "code",
   "execution_count": 70,
   "id": "908f5702",
   "metadata": {
    "scrolled": true
   },
   "outputs": [
    {
     "data": {
      "text/plain": [
       "<AxesSubplot:title={'center':'International Remittance'}>"
      ]
     },
     "execution_count": 70,
     "metadata": {},
     "output_type": "execute_result"
    },
    {
     "data": {
      "image/png": "[encoded data removed]",
      "text/plain": [
       "<Figure size 432x216 with 1 Axes>"
      ]
     },
     "metadata": {
      "needs_background": "light"
     },
     "output_type": "display_data"
    }
   ],
   "source": [
    "df.IntlRemittance.value_counts().plot(kind='bar', figsize=(6,3), title='International Remittance')"
   ]
  },
  {
   "cell_type": "code",
   "execution_count": 71,
   "id": "4102dad3",
   "metadata": {
    "scrolled": true
   },
   "outputs": [
    {
     "data": {
      "text/plain": [
       "Monthly-several times                     3\n",
       "Weekly-Once                               7\n",
       "Occasionally (less than once a month)     8\n",
       "Daily-once                                9\n",
       "Monthly-once                              9\n",
       "Weekly-several times                     16\n",
       "Daily –Several times                     26\n",
       "Name: Savings, dtype: int64"
      ]
     },
     "execution_count": 71,
     "metadata": {},
     "output_type": "execute_result"
    }
   ],
   "source": [
    "df.Savings.value_counts().sort_values()"
   ]
  },
  {
   "cell_type": "code",
   "execution_count": 72,
   "id": "23eada0c",
   "metadata": {
    "scrolled": true
   },
   "outputs": [
    {
     "data": {
      "text/plain": [
       "<AxesSubplot:title={'center':'Savings'}>"
      ]
     },
     "execution_count": 72,
     "metadata": {},
     "output_type": "execute_result"
    },
    {
     "data": {
      "image/png": "[encoded data removed]",
      "text/plain": [
       "<Figure size 432x216 with 1 Axes>"
      ]
     },
     "metadata": {
      "needs_background": "light"
     },
     "output_type": "display_data"
    }
   ],
   "source": [
    "df.Savings.value_counts().plot(kind='bar', figsize=(6,3), title='Savings')"
   ]
  },
  {
   "cell_type": "code",
   "execution_count": 73,
   "id": "e51d6e59",
   "metadata": {
    "scrolled": true
   },
   "outputs": [
    {
     "data": {
      "text/plain": [
       "Monthly-several times                     3\n",
       "Occasionally (less than once a month)     4\n",
       "Monthly-once                              5\n",
       "Daily-once                               12\n",
       "Daily –Several times                     16\n",
       "Weekly-several times                     18\n",
       "Weekly-Once                              20\n",
       "Name: Withdrawals, dtype: int64"
      ]
     },
     "execution_count": 73,
     "metadata": {},
     "output_type": "execute_result"
    }
   ],
   "source": [
    "df.Withdrawals.value_counts().sort_values()"
   ]
  },
  {
   "cell_type": "code",
   "execution_count": 74,
   "id": "0c7916fd",
   "metadata": {
    "scrolled": true
   },
   "outputs": [
    {
     "data": {
      "text/plain": [
       "<AxesSubplot:title={'center':'Cash Withdrawals'}>"
      ]
     },
     "execution_count": 74,
     "metadata": {},
     "output_type": "execute_result"
    },
    {
     "data": {
      "image/png": "[encoded data removed]",
      "text/plain": [
       "<Figure size 432x216 with 1 Axes>"
      ]
     },
     "metadata": {
      "needs_background": "light"
     },
     "output_type": "display_data"
    }
   ],
   "source": [
    "df.Withdrawals.value_counts().plot(kind='bar', figsize=(6,3), title='Cash Withdrawals')"
   ]
  },
  {
   "cell_type": "code",
   "execution_count": 75,
   "id": "b7b8d5de",
   "metadata": {
    "scrolled": true
   },
   "outputs": [
    {
     "data": {
      "text/plain": [
       "Monthly-several times                     3\n",
       "Monthly-once                              3\n",
       "Daily-once                                7\n",
       "Weekly-several times                     10\n",
       "Occasionally (less than once a month)    11\n",
       "Weekly-Once                              19\n",
       "Daily –Several times                     25\n",
       "Name: Purchasing, dtype: int64"
      ]
     },
     "execution_count": 75,
     "metadata": {},
     "output_type": "execute_result"
    }
   ],
   "source": [
    "df.Purchasing.value_counts().sort_values()"
   ]
  },
  {
   "cell_type": "code",
   "execution_count": 76,
   "id": "3f3e36a3",
   "metadata": {
    "scrolled": true
   },
   "outputs": [
    {
     "data": {
      "text/plain": [
       "<AxesSubplot:title={'center':'Purchasing'}>"
      ]
     },
     "execution_count": 76,
     "metadata": {},
     "output_type": "execute_result"
    },
    {
     "data": {
      "image/png": "[encoded data removed]",
      "text/plain": [
       "<Figure size 432x216 with 1 Axes>"
      ]
     },
     "metadata": {
      "needs_background": "light"
     },
     "output_type": "display_data"
    }
   ],
   "source": [
    "df.Purchasing.value_counts().plot(kind='bar', figsize=(6,3), title='Purchasing')"
   ]
  },
  {
   "cell_type": "code",
   "execution_count": 77,
   "id": "cfc5e1d4",
   "metadata": {
    "scrolled": true
   },
   "outputs": [
    {
     "data": {
      "text/plain": [
       "Weekly-several times                      4\n",
       "Daily-once                                4\n",
       "Occasionally (less than once a month)    19\n",
       "Daily –Several times                     24\n",
       "Weekly-Once                              27\n",
       "Name: Investments, dtype: int64"
      ]
     },
     "execution_count": 77,
     "metadata": {},
     "output_type": "execute_result"
    }
   ],
   "source": [
    "df.Investments.value_counts().sort_values()"
   ]
  },
  {
   "cell_type": "code",
   "execution_count": 78,
   "id": "c2125590",
   "metadata": {
    "scrolled": true
   },
   "outputs": [
    {
     "data": {
      "text/plain": [
       "<AxesSubplot:title={'center':'Commodity Dealing / Investments'}>"
      ]
     },
     "execution_count": 78,
     "metadata": {},
     "output_type": "execute_result"
    },
    {
     "data": {
      "image/png": "[encoded data removed]",
      "text/plain": [
       "<Figure size 432x216 with 1 Axes>"
      ]
     },
     "metadata": {
      "needs_background": "light"
     },
     "output_type": "display_data"
    }
   ],
   "source": [
    "df.Investments.value_counts().plot(kind='bar', figsize=(6,3), title='Commodity Dealing / Investments')"
   ]
  },
  {
   "cell_type": "code",
   "execution_count": 79,
   "id": "8bd72bf9",
   "metadata": {
    "scrolled": true
   },
   "outputs": [
    {
     "data": {
      "text/plain": [
       "Weekly-several times                      4\n",
       "Weekly-Once                              18\n",
       "Daily –Several times                     19\n",
       "Occasionally (less than once a month)    37\n",
       "Name: PensionFund, dtype: int64"
      ]
     },
     "execution_count": 79,
     "metadata": {},
     "output_type": "execute_result"
    }
   ],
   "source": [
    "df.PensionFund.value_counts().sort_values()"
   ]
  },
  {
   "cell_type": "code",
   "execution_count": 80,
   "id": "7b506e04",
   "metadata": {
    "scrolled": true
   },
   "outputs": [
    {
     "data": {
      "text/plain": [
       "<AxesSubplot:title={'center':'Pension Fund Management'}>"
      ]
     },
     "execution_count": 80,
     "metadata": {},
     "output_type": "execute_result"
    },
    {
     "data": {
      "image/png": "[encoded data removed]",
      "text/plain": [
       "<Figure size 432x216 with 1 Axes>"
      ]
     },
     "metadata": {
      "needs_background": "light"
     },
     "output_type": "display_data"
    }
   ],
   "source": [
    "df.PensionFund.value_counts().plot(kind='bar', figsize=(6,3), title='Pension Fund Management')"
   ]
  },
  {
   "cell_type": "code",
   "execution_count": 81,
   "id": "6e7302a5",
   "metadata": {},
   "outputs": [
    {
     "data": {
      "text/plain": [
       "Western Union, Money Gram          1\n",
       "Bank teller                        6\n",
       "Automatic Teller Machine (ATM)    16\n",
       "Point Of Sale (POS) Service       21\n",
       "Mobile money                      43\n",
       "Online/Internet                   57\n",
       "dtype: int64"
      ]
     },
     "execution_count": 81,
     "metadata": {},
     "output_type": "execute_result"
    }
   ],
   "source": [
    "TF = df.TransferFunnel.str.split(';', expand=True)\n",
    "TF = TF.stack()\n",
    "TF.value_counts().sort_values()"
   ]
  },
  {
   "cell_type": "code",
   "execution_count": 82,
   "id": "f40a9bac",
   "metadata": {},
   "outputs": [
    {
     "data": {
      "text/plain": [
       "<AxesSubplot:title={'center':'How do you transfer money'}>"
      ]
     },
     "execution_count": 82,
     "metadata": {},
     "output_type": "execute_result"
    },
    {
     "data": {
      "image/png": "[encoded data removed]",
      "text/plain": [
       "<Figure size 432x216 with 1 Axes>"
      ]
     },
     "metadata": {
      "needs_background": "light"
     },
     "output_type": "display_data"
    }
   ],
   "source": [
    "TF.value_counts().plot(kind='bar', figsize=(6,3), title='How do you transfer money', color='#800080')"
   ]
  },
  {
   "cell_type": "code",
   "execution_count": 83,
   "id": "d46f7e56",
   "metadata": {},
   "outputs": [
    {
     "data": {
      "text/plain": [
       "Send                 2\n",
       "Send and Receive    76\n",
       "Name: SendRecieve, dtype: int64"
      ]
     },
     "execution_count": 83,
     "metadata": {},
     "output_type": "execute_result"
    }
   ],
   "source": [
    "df.SendRecieve.value_counts().sort_values()"
   ]
  },
  {
   "cell_type": "code",
   "execution_count": 84,
   "id": "d7a55d47",
   "metadata": {},
   "outputs": [
    {
     "data": {
      "text/plain": [
       "<AxesSubplot:title={'center':'Do you normally send funds, recieve or do both'}>"
      ]
     },
     "execution_count": 84,
     "metadata": {},
     "output_type": "execute_result"
    },
    {
     "data": {
      "image/png": "[encoded data removed]",
      "text/plain": [
       "<Figure size 216x216 with 1 Axes>"
      ]
     },
     "metadata": {
      "needs_background": "light"
     },
     "output_type": "display_data"
    }
   ],
   "source": [
    "df.SendRecieve.value_counts().plot(kind='bar', figsize=(3,3), title='Do you normally send funds, recieve or do both', color='#800080')"
   ]
  },
  {
   "cell_type": "code",
   "execution_count": 85,
   "id": "b4d54c63",
   "metadata": {},
   "outputs": [
    {
     "data": {
      "text/plain": [
       "Send       18\n",
       "Receive    19\n",
       "Both       41\n",
       "Name: Transfer_Family, dtype: int64"
      ]
     },
     "execution_count": 85,
     "metadata": {},
     "output_type": "execute_result"
    }
   ],
   "source": [
    "df.Transfer_Family.value_counts().sort_values()"
   ]
  },
  {
   "cell_type": "code",
   "execution_count": 86,
   "id": "507897a1",
   "metadata": {},
   "outputs": [
    {
     "data": {
      "text/plain": [
       "<AxesSubplot:title={'center':'Transfer to Family'}>"
      ]
     },
     "execution_count": 86,
     "metadata": {},
     "output_type": "execute_result"
    },
    {
     "data": {
      "image/png": "[encoded data removed]",
      "text/plain": [
       "<Figure size 288x216 with 1 Axes>"
      ]
     },
     "metadata": {
      "needs_background": "light"
     },
     "output_type": "display_data"
    }
   ],
   "source": [
    "df.Transfer_Family.value_counts().plot(kind='bar', figsize=(4,3), title='Transfer to Family', color='#800080')"
   ]
  },
  {
   "cell_type": "code",
   "execution_count": 87,
   "id": "dfe14d77",
   "metadata": {},
   "outputs": [
    {
     "data": {
      "text/plain": [
       "Receive    13\n",
       "Send       18\n",
       "Both       47\n",
       "Name: Transfer_Friends, dtype: int64"
      ]
     },
     "execution_count": 87,
     "metadata": {},
     "output_type": "execute_result"
    }
   ],
   "source": [
    "df.Transfer_Friends.value_counts().sort_values()"
   ]
  },
  {
   "cell_type": "code",
   "execution_count": 88,
   "id": "c5a35d00",
   "metadata": {},
   "outputs": [
    {
     "data": {
      "text/plain": [
       "<AxesSubplot:title={'center':'Transfer to Friends'}>"
      ]
     },
     "execution_count": 88,
     "metadata": {},
     "output_type": "execute_result"
    },
    {
     "data": {
      "image/png": "[encoded data removed]",
      "text/plain": [
       "<Figure size 288x216 with 1 Axes>"
      ]
     },
     "metadata": {
      "needs_background": "light"
     },
     "output_type": "display_data"
    }
   ],
   "source": [
    "df.Transfer_Family.value_counts().plot(kind='bar', figsize=(4,3), title='Transfer to Friends', color='#800080')"
   ]
  },
  {
   "cell_type": "code",
   "execution_count": 89,
   "id": "27d38c3b",
   "metadata": {},
   "outputs": [
    {
     "data": {
      "text/plain": [
       "Send        6\n",
       "Both       25\n",
       "Receive    47\n",
       "Name: Employer_Employee, dtype: int64"
      ]
     },
     "execution_count": 89,
     "metadata": {},
     "output_type": "execute_result"
    }
   ],
   "source": [
    "df.Employer_Employee.value_counts().sort_values()"
   ]
  },
  {
   "cell_type": "code",
   "execution_count": 90,
   "id": "4f8c7323",
   "metadata": {},
   "outputs": [
    {
     "data": {
      "text/plain": [
       "<AxesSubplot:title={'center':'Employer / Employee'}>"
      ]
     },
     "execution_count": 90,
     "metadata": {},
     "output_type": "execute_result"
    },
    {
     "data": {
      "image/png": "[encoded data removed]",
      "text/plain": [
       "<Figure size 288x216 with 1 Axes>"
      ]
     },
     "metadata": {
      "needs_background": "light"
     },
     "output_type": "display_data"
    }
   ],
   "source": [
    "df.Employer_Employee.value_counts().plot(kind='bar', figsize=(4,3), title='Employer / Employee', color='#800080')"
   ]
  },
  {
   "cell_type": "code",
   "execution_count": 91,
   "id": "a99b5817",
   "metadata": {},
   "outputs": [
    {
     "data": {
      "text/plain": [
       "Both       15\n",
       "Receive    22\n",
       "Send       41\n",
       "Name: Transfer_Government, dtype: int64"
      ]
     },
     "execution_count": 91,
     "metadata": {},
     "output_type": "execute_result"
    }
   ],
   "source": [
    "df.Transfer_Government.value_counts().sort_values()"
   ]
  },
  {
   "cell_type": "code",
   "execution_count": 92,
   "id": "0833aac3",
   "metadata": {},
   "outputs": [
    {
     "data": {
      "text/plain": [
       "<AxesSubplot:title={'center':'Transfer to Government (Remita, Tax, e.t.c.)'}>"
      ]
     },
     "execution_count": 92,
     "metadata": {},
     "output_type": "execute_result"
    },
    {
     "data": {
      "image/png": "[encoded data removed]",
      "text/plain": [
       "<Figure size 288x216 with 1 Axes>"
      ]
     },
     "metadata": {
      "needs_background": "light"
     },
     "output_type": "display_data"
    }
   ],
   "source": [
    "df.Transfer_Government.value_counts().plot(kind='bar', figsize=(4,3), title='Transfer to Government (Remita, Tax, e.t.c.)', color='#800080')"
   ]
  },
  {
   "cell_type": "code",
   "execution_count": 93,
   "id": "a2d3f896",
   "metadata": {},
   "outputs": [
    {
     "data": {
      "text/plain": [
       "Prepaid card                       5\n",
       "Cheque                             6\n",
       "Bank teller                       11\n",
       "Pay outlet by company             17\n",
       "Third party pay outlet            17\n",
       "Automatic Teller Machine (ATM)    22\n",
       "Credit card                       23\n",
       "Cash direct to company            25\n",
       "Mobile banking                    65\n",
       "dtype: int64"
      ]
     },
     "execution_count": 93,
     "metadata": {},
     "output_type": "execute_result"
    }
   ],
   "source": [
    "BP = df.BillPayments.str.split(';', expand=True)\n",
    "BP = BP.stack()\n",
    "BP.value_counts().sort_values()"
   ]
  },
  {
   "cell_type": "code",
   "execution_count": 94,
   "id": "50179bf3",
   "metadata": {
    "scrolled": true
   },
   "outputs": [
    {
     "data": {
      "text/plain": [
       "<AxesSubplot:title={'center':'How do you pay your bills'}>"
      ]
     },
     "execution_count": 94,
     "metadata": {},
     "output_type": "execute_result"
    },
    {
     "data": {
      "image/png": "[encoded data removed]",
      "text/plain": [
       "<Figure size 432x216 with 1 Axes>"
      ]
     },
     "metadata": {
      "needs_background": "light"
     },
     "output_type": "display_data"
    }
   ],
   "source": [
    "BP.value_counts().plot(kind='bar', figsize=(6,3), title='How do you pay your bills', color='#800080')"
   ]
  },
  {
   "cell_type": "code",
   "execution_count": 95,
   "id": "427347e3",
   "metadata": {},
   "outputs": [
    {
     "data": {
      "text/plain": [
       "Gasing fee                       1\n",
       "None                             6\n",
       "Goods for work                  29\n",
       "Utility (electricity, water)    34\n",
       "School fees                     37\n",
       "Goods for home                  42\n",
       "Mobile phone bill               53\n",
       "dtype: int64"
      ]
     },
     "execution_count": 95,
     "metadata": {},
     "output_type": "execute_result"
    }
   ],
   "source": [
    "BPT = df.BillpaymentType.str.split(';', expand=True)\n",
    "BPT = BPT.stack()\n",
    "BPT.value_counts().sort_values()"
   ]
  },
  {
   "cell_type": "code",
   "execution_count": 96,
   "id": "e531a10f",
   "metadata": {},
   "outputs": [
    {
     "data": {
      "text/plain": [
       "<AxesSubplot:title={'center':'What types bills do you Pay'}>"
      ]
     },
     "execution_count": 96,
     "metadata": {},
     "output_type": "execute_result"
    },
    {
     "data": {
      "image/png": "[encoded data removed]",
      "text/plain": [
       "<Figure size 432x216 with 1 Axes>"
      ]
     },
     "metadata": {
      "needs_background": "light"
     },
     "output_type": "display_data"
    }
   ],
   "source": [
    "BPT.value_counts().plot(kind='bar', figsize=(6,3), title='What types bills do you Pay', color='#800080')"
   ]
  },
  {
   "cell_type": "code",
   "execution_count": 97,
   "id": "40a2aa52",
   "metadata": {},
   "outputs": [
    {
     "data": {
      "text/plain": [
       "No      1\n",
       "Yes    77\n",
       "Name: Accessibility, dtype: int64"
      ]
     },
     "execution_count": 97,
     "metadata": {},
     "output_type": "execute_result"
    }
   ],
   "source": [
    "df.Accessibility.value_counts().sort_values()"
   ]
  },
  {
   "cell_type": "code",
   "execution_count": 98,
   "id": "2e9c411d",
   "metadata": {},
   "outputs": [
    {
     "data": {
      "text/plain": [
       "<AxesSubplot:title={'center':'Do you think Mobile banking services are easily accessible than traditional banking services?'}>"
      ]
     },
     "execution_count": 98,
     "metadata": {},
     "output_type": "execute_result"
    },
    {
     "data": {
      "image/png": "[encoded data removed]",
      "text/plain": [
       "<Figure size 216x216 with 1 Axes>"
      ]
     },
     "metadata": {
      "needs_background": "light"
     },
     "output_type": "display_data"
    }
   ],
   "source": [
    "df.Accessibility.value_counts().plot(kind='bar', figsize=(3,3), \n",
    "                                     title='Do you think Mobile banking services are easily accessible than traditional banking services?', \n",
    "                                     color='#800080')"
   ]
  },
  {
   "cell_type": "code",
   "execution_count": 99,
   "id": "b58b18c4",
   "metadata": {},
   "outputs": [
    {
     "data": {
      "text/plain": [
       "1.0    15\n",
       "3.0    23\n",
       "2.0    40\n",
       "Name: BankKnowledge, dtype: int64"
      ]
     },
     "execution_count": 99,
     "metadata": {},
     "output_type": "execute_result"
    }
   ],
   "source": [
    "df.BankKnowledge.value_counts().sort_values()"
   ]
  },
  {
   "cell_type": "code",
   "execution_count": 100,
   "id": "568ba230",
   "metadata": {},
   "outputs": [
    {
     "data": {
      "text/plain": [
       "<AxesSubplot:title={'center':'Bank Services Knowledge'}>"
      ]
     },
     "execution_count": 100,
     "metadata": {},
     "output_type": "execute_result"
    },
    {
     "data": {
      "image/png": "[encoded data removed]",
      "text/plain": [
       "<Figure size 216x216 with 1 Axes>"
      ]
     },
     "metadata": {
      "needs_background": "light"
     },
     "output_type": "display_data"
    }
   ],
   "source": [
    "df.BankKnowledge.value_counts().plot(kind='bar', figsize=(3,3), title='Bank Services Knowledge', color='#800080')"
   ]
  },
  {
   "cell_type": "code",
   "execution_count": 101,
   "id": "ee77b5a7",
   "metadata": {},
   "outputs": [
    {
     "data": {
      "text/plain": [
       "1.0     6\n",
       "2.0    23\n",
       "3.0    49\n",
       "Name: MBSKnowledge, dtype: int64"
      ]
     },
     "execution_count": 101,
     "metadata": {},
     "output_type": "execute_result"
    }
   ],
   "source": [
    "df.MBSKnowledge.value_counts().sort_values()"
   ]
  },
  {
   "cell_type": "code",
   "execution_count": 102,
   "id": "1e451110",
   "metadata": {},
   "outputs": [
    {
     "data": {
      "text/plain": [
       "<AxesSubplot:title={'center':'Mobile Banking Service Knowledge'}>"
      ]
     },
     "execution_count": 102,
     "metadata": {},
     "output_type": "execute_result"
    },
    {
     "data": {
      "image/png": "[encoded data removed]",
      "text/plain": [
       "<Figure size 216x216 with 1 Axes>"
      ]
     },
     "metadata": {
      "needs_background": "light"
     },
     "output_type": "display_data"
    }
   ],
   "source": [
    "df.MBSKnowledge.value_counts().plot(kind='bar', figsize=(3,3), title='Mobile Banking Service Knowledge', color='#800080')"
   ]
  },
  {
   "cell_type": "code",
   "execution_count": 103,
   "id": "87e39762",
   "metadata": {},
   "outputs": [
    {
     "data": {
      "text/plain": [
       "1.0     4\n",
       "2.0    12\n",
       "3.0    62\n",
       "Name: MobileUsability, dtype: int64"
      ]
     },
     "execution_count": 103,
     "metadata": {},
     "output_type": "execute_result"
    }
   ],
   "source": [
    "df.MobileUsability.value_counts().sort_values()"
   ]
  },
  {
   "cell_type": "code",
   "execution_count": 104,
   "id": "2b07b087",
   "metadata": {},
   "outputs": [
    {
     "data": {
      "text/plain": [
       "<AxesSubplot:title={'center':'Ability to use mobile phone'}>"
      ]
     },
     "execution_count": 104,
     "metadata": {},
     "output_type": "execute_result"
    },
    {
     "data": {
      "image/png": "[encoded data removed]",
      "text/plain": [
       "<Figure size 216x216 with 1 Axes>"
      ]
     },
     "metadata": {
      "needs_background": "light"
     },
     "output_type": "display_data"
    }
   ],
   "source": [
    "df.MobileUsability.value_counts().plot(kind='bar', figsize=(3,3), title='Ability to use mobile phone', color='#800080')"
   ]
  },
  {
   "cell_type": "code",
   "execution_count": 105,
   "id": "da4d5f37",
   "metadata": {},
   "outputs": [
    {
     "data": {
      "text/plain": [
       "1.0     8\n",
       "2.0    14\n",
       "3.0    56\n",
       "Name: ATMUsability, dtype: int64"
      ]
     },
     "execution_count": 105,
     "metadata": {},
     "output_type": "execute_result"
    }
   ],
   "source": [
    "df.ATMUsability.value_counts().sort_values()"
   ]
  },
  {
   "cell_type": "code",
   "execution_count": 106,
   "id": "29779a4a",
   "metadata": {},
   "outputs": [
    {
     "data": {
      "text/plain": [
       "<AxesSubplot:title={'center':'Ability to use ATM'}>"
      ]
     },
     "execution_count": 106,
     "metadata": {},
     "output_type": "execute_result"
    },
    {
     "data": {
      "image/png": "[encoded data removed]",
      "text/plain": [
       "<Figure size 216x216 with 1 Axes>"
      ]
     },
     "metadata": {
      "needs_background": "light"
     },
     "output_type": "display_data"
    }
   ],
   "source": [
    "df.ATMUsability.value_counts().plot(kind='bar', figsize=(3,3), title='Ability to use ATM', color='#800080')"
   ]
  },
  {
   "cell_type": "code",
   "execution_count": 107,
   "id": "5de75050",
   "metadata": {},
   "outputs": [
    {
     "data": {
      "text/plain": [
       "1.0     5\n",
       "2.0    17\n",
       "3.0    56\n",
       "Name: InternetUsability, dtype: int64"
      ]
     },
     "execution_count": 107,
     "metadata": {},
     "output_type": "execute_result"
    }
   ],
   "source": [
    "df.InternetUsability.value_counts().sort_values()"
   ]
  },
  {
   "cell_type": "code",
   "execution_count": 108,
   "id": "169a255c",
   "metadata": {},
   "outputs": [
    {
     "data": {
      "text/plain": [
       "<AxesSubplot:title={'center':'Ability to use Internet'}>"
      ]
     },
     "execution_count": 108,
     "metadata": {},
     "output_type": "execute_result"
    },
    {
     "data": {
      "image/png": "[encoded data removed]",
      "text/plain": [
       "<Figure size 216x216 with 1 Axes>"
      ]
     },
     "metadata": {
      "needs_background": "light"
     },
     "output_type": "display_data"
    }
   ],
   "source": [
    "df.InternetUsability.value_counts().plot(kind='bar', figsize=(3,3), title='Ability to use Internet', color='#800080')"
   ]
  },
  {
   "cell_type": "code",
   "execution_count": 109,
   "id": "67eb998e",
   "metadata": {},
   "outputs": [
    {
     "data": {
      "text/plain": [
       "1.0    16\n",
       "2.0    28\n",
       "3.0    34\n",
       "Name: POSUsability, dtype: int64"
      ]
     },
     "execution_count": 109,
     "metadata": {},
     "output_type": "execute_result"
    }
   ],
   "source": [
    "df.POSUsability.value_counts().sort_values()"
   ]
  },
  {
   "cell_type": "code",
   "execution_count": 110,
   "id": "c45f8720",
   "metadata": {},
   "outputs": [
    {
     "data": {
      "text/plain": [
       "<AxesSubplot:title={'center':'Ability to use POS'}>"
      ]
     },
     "execution_count": 110,
     "metadata": {},
     "output_type": "execute_result"
    },
    {
     "data": {
      "image/png": "[encoded data removed]",
      "text/plain": [
       "<Figure size 216x216 with 1 Axes>"
      ]
     },
     "metadata": {
      "needs_background": "light"
     },
     "output_type": "display_data"
    }
   ],
   "source": [
    "df.POSUsability.value_counts().plot(kind='bar', figsize=(3,3), title='Ability to use POS', color='#800080')"
   ]
  },
  {
   "cell_type": "code",
   "execution_count": 111,
   "id": "4ece6321",
   "metadata": {},
   "outputs": [
    {
     "data": {
      "text/plain": [
       "1.0     4\n",
       "2.0    20\n",
       "3.0    54\n",
       "Name: DebitcardUsability, dtype: int64"
      ]
     },
     "execution_count": 111,
     "metadata": {},
     "output_type": "execute_result"
    }
   ],
   "source": [
    "df.DebitcardUsability.value_counts().sort_values()"
   ]
  },
  {
   "cell_type": "code",
   "execution_count": 112,
   "id": "1645c16f",
   "metadata": {},
   "outputs": [
    {
     "data": {
      "text/plain": [
       "<AxesSubplot:title={'center':'Ability to use Debitcard'}>"
      ]
     },
     "execution_count": 112,
     "metadata": {},
     "output_type": "execute_result"
    },
    {
     "data": {
      "image/png": "[encoded data removed]",
      "text/plain": [
       "<Figure size 216x216 with 1 Axes>"
      ]
     },
     "metadata": {
      "needs_background": "light"
     },
     "output_type": "display_data"
    }
   ],
   "source": [
    "df.DebitcardUsability.value_counts().plot(kind='bar', figsize=(3,3), title='Ability to use Debitcard', color='#800080')"
   ]
  },
  {
   "cell_type": "code",
   "execution_count": 113,
   "id": "c262a91e",
   "metadata": {},
   "outputs": [
    {
     "data": {
      "text/plain": [
       "1.0    20\n",
       "3.0    26\n",
       "2.0    32\n",
       "Name: PrepaidcardUsability, dtype: int64"
      ]
     },
     "execution_count": 113,
     "metadata": {},
     "output_type": "execute_result"
    }
   ],
   "source": [
    "df.PrepaidcardUsability.value_counts().sort_values()"
   ]
  },
  {
   "cell_type": "code",
   "execution_count": 114,
   "id": "24dbfc39",
   "metadata": {},
   "outputs": [
    {
     "data": {
      "text/plain": [
       "<AxesSubplot:title={'center':'Ability to use Prepaid card'}>"
      ]
     },
     "execution_count": 114,
     "metadata": {},
     "output_type": "execute_result"
    },
    {
     "data": {
      "image/png": "[encoded data removed]",
      "text/plain": [
       "<Figure size 216x216 with 1 Axes>"
      ]
     },
     "metadata": {
      "needs_background": "light"
     },
     "output_type": "display_data"
    }
   ],
   "source": [
    "df.PrepaidcardUsability.value_counts().plot(kind='bar', figsize=(3,3), title='Ability to use Prepaid card', color='#800080')"
   ]
  },
  {
   "cell_type": "code",
   "execution_count": 115,
   "id": "b1e5ce57",
   "metadata": {},
   "outputs": [
    {
     "data": {
      "text/plain": [
       "1.0     5\n",
       "2.0    14\n",
       "3.0    59\n",
       "Name: Navigation, dtype: int64"
      ]
     },
     "execution_count": 115,
     "metadata": {},
     "output_type": "execute_result"
    }
   ],
   "source": [
    "df.Navigation.value_counts().sort_values()"
   ]
  },
  {
   "cell_type": "code",
   "execution_count": 116,
   "id": "80b46a4d",
   "metadata": {},
   "outputs": [
    {
     "data": {
      "text/plain": [
       "<AxesSubplot:title={'center':'My mobile banking menu is very easy to navigate'}>"
      ]
     },
     "execution_count": 116,
     "metadata": {},
     "output_type": "execute_result"
    },
    {
     "data": {
      "image/png": "[encoded data removed]",
      "text/plain": [
       "<Figure size 216x216 with 1 Axes>"
      ]
     },
     "metadata": {
      "needs_background": "light"
     },
     "output_type": "display_data"
    }
   ],
   "source": [
    "df.Navigation.value_counts().plot(kind='bar', figsize=(3,3), \n",
    "                                  title='My mobile banking menu is very easy to navigate', \n",
    "                                  color='#800080')"
   ]
  },
  {
   "cell_type": "code",
   "execution_count": 117,
   "id": "19dda210",
   "metadata": {},
   "outputs": [
    {
     "data": {
      "text/plain": [
       "1.0     1\n",
       "2.0    18\n",
       "3.0    59\n",
       "Name: Understandable, dtype: int64"
      ]
     },
     "execution_count": 117,
     "metadata": {},
     "output_type": "execute_result"
    }
   ],
   "source": [
    "df.Understandable.value_counts().sort_values()"
   ]
  },
  {
   "cell_type": "code",
   "execution_count": 118,
   "id": "62ef7489",
   "metadata": {},
   "outputs": [
    {
     "data": {
      "text/plain": [
       "<AxesSubplot:title={'center':'My mobile banking menu is very easy to understand'}>"
      ]
     },
     "execution_count": 118,
     "metadata": {},
     "output_type": "execute_result"
    },
    {
     "data": {
      "image/png": "[encoded data removed]",
      "text/plain": [
       "<Figure size 216x216 with 1 Axes>"
      ]
     },
     "metadata": {
      "needs_background": "light"
     },
     "output_type": "display_data"
    }
   ],
   "source": [
    "df.Understandable.value_counts().plot(kind='bar', figsize=(3,3), \n",
    "                                      title='My mobile banking menu is very easy to understand', \n",
    "                                      color='#800080')"
   ]
  },
  {
   "cell_type": "code",
   "execution_count": 119,
   "id": "1f7b1371",
   "metadata": {},
   "outputs": [
    {
     "data": {
      "text/plain": [
       "1.0     1\n",
       "2.0    10\n",
       "3.0    67\n",
       "Name: Payment, dtype: int64"
      ]
     },
     "execution_count": 119,
     "metadata": {},
     "output_type": "execute_result"
    }
   ],
   "source": [
    "df.Payment.value_counts().sort_values()"
   ]
  },
  {
   "cell_type": "code",
   "execution_count": 120,
   "id": "843a6626",
   "metadata": {},
   "outputs": [
    {
     "data": {
      "text/plain": [
       "<AxesSubplot:title={'center':'It is easy to make a payment'}>"
      ]
     },
     "execution_count": 120,
     "metadata": {},
     "output_type": "execute_result"
    },
    {
     "data": {
      "image/png": "[encoded data removed]",
      "text/plain": [
       "<Figure size 216x216 with 1 Axes>"
      ]
     },
     "metadata": {
      "needs_background": "light"
     },
     "output_type": "display_data"
    }
   ],
   "source": [
    "df.Payment.value_counts().plot(kind='bar', figsize=(3,3), \n",
    "                               title='It is easy to make a payment', \n",
    "                               color='#800080')"
   ]
  },
  {
   "cell_type": "code",
   "execution_count": 121,
   "id": "63dc2ab4",
   "metadata": {},
   "outputs": [
    {
     "data": {
      "text/plain": [
       "1.0     3\n",
       "2.0    11\n",
       "3.0    64\n",
       "Name: Transfer_Ease, dtype: int64"
      ]
     },
     "execution_count": 121,
     "metadata": {},
     "output_type": "execute_result"
    }
   ],
   "source": [
    "df.Transfer_Ease.value_counts().sort_values()"
   ]
  },
  {
   "cell_type": "code",
   "execution_count": 122,
   "id": "458e9ad6",
   "metadata": {},
   "outputs": [
    {
     "data": {
      "text/plain": [
       "<AxesSubplot:title={'center':'It is easy to transfer money'}>"
      ]
     },
     "execution_count": 122,
     "metadata": {},
     "output_type": "execute_result"
    },
    {
     "data": {
      "image/png": "[encoded data removed]",
      "text/plain": [
       "<Figure size 216x216 with 1 Axes>"
      ]
     },
     "metadata": {
      "needs_background": "light"
     },
     "output_type": "display_data"
    }
   ],
   "source": [
    "df.Transfer_Ease.value_counts().plot(kind='bar', figsize=(3,3), title='It is easy to transfer money', color='#800080')"
   ]
  },
  {
   "cell_type": "code",
   "execution_count": 123,
   "id": "dc2a0b24",
   "metadata": {},
   "outputs": [
    {
     "data": {
      "text/plain": [
       "1.0     4\n",
       "2.0    10\n",
       "3.0    64\n",
       "Name: InquiryEase, dtype: int64"
      ]
     },
     "execution_count": 123,
     "metadata": {},
     "output_type": "execute_result"
    }
   ],
   "source": [
    "df.InquiryEase.value_counts().sort_values()"
   ]
  },
  {
   "cell_type": "code",
   "execution_count": 124,
   "id": "f2f11ae9",
   "metadata": {},
   "outputs": [
    {
     "data": {
      "text/plain": [
       "<AxesSubplot:title={'center':'It is easy to make inquiries'}>"
      ]
     },
     "execution_count": 124,
     "metadata": {},
     "output_type": "execute_result"
    },
    {
     "data": {
      "image/png": "[encoded data removed]",
      "text/plain": [
       "<Figure size 216x216 with 1 Axes>"
      ]
     },
     "metadata": {
      "needs_background": "light"
     },
     "output_type": "display_data"
    }
   ],
   "source": [
    "df.InquiryEase.value_counts().plot(kind='bar', figsize=(3,3), title='It is easy to make inquiries', color='#800080')"
   ]
  },
  {
   "cell_type": "code",
   "execution_count": 125,
   "id": "1da69b21",
   "metadata": {},
   "outputs": [
    {
     "data": {
      "text/plain": [
       "1.0     5\n",
       "3.0    29\n",
       "2.0    44\n",
       "Name: BST_Overall, dtype: int64"
      ]
     },
     "execution_count": 125,
     "metadata": {},
     "output_type": "execute_result"
    }
   ],
   "source": [
    "df.BST_Overall.value_counts().sort_values()"
   ]
  },
  {
   "cell_type": "code",
   "execution_count": 126,
   "id": "d7813fd2",
   "metadata": {},
   "outputs": [
    {
     "data": {
      "text/plain": [
       "<AxesSubplot:title={'center':'Trust Bank Service Fully'}>"
      ]
     },
     "execution_count": 126,
     "metadata": {},
     "output_type": "execute_result"
    },
    {
     "data": {
      "image/png": "[encoded data removed]",
      "text/plain": [
       "<Figure size 216x216 with 1 Axes>"
      ]
     },
     "metadata": {
      "needs_background": "light"
     },
     "output_type": "display_data"
    }
   ],
   "source": [
    "df['BST_Overall'].value_counts().plot(kind='bar', figsize=(3,3), title='Trust Bank Service Fully', color='#800080')"
   ]
  },
  {
   "cell_type": "code",
   "execution_count": 127,
   "id": "a022e54b",
   "metadata": {},
   "outputs": [
    {
     "data": {
      "text/plain": [
       "1.0     8\n",
       "3.0    29\n",
       "2.0    41\n",
       "Name: BST_banks, dtype: int64"
      ]
     },
     "execution_count": 127,
     "metadata": {},
     "output_type": "execute_result"
    }
   ],
   "source": [
    "df['BST_banks'].value_counts().sort_values()"
   ]
  },
  {
   "cell_type": "code",
   "execution_count": 128,
   "id": "0ee95655",
   "metadata": {},
   "outputs": [
    {
     "data": {
      "text/plain": [
       "<AxesSubplot:title={'center':'Trust Bank Service Fully'}>"
      ]
     },
     "execution_count": 128,
     "metadata": {},
     "output_type": "execute_result"
    },
    {
     "data": {
      "image/png": "[encoded data removed]",
      "text/plain": [
       "<Figure size 216x216 with 1 Axes>"
      ]
     },
     "metadata": {
      "needs_background": "light"
     },
     "output_type": "display_data"
    }
   ],
   "source": [
    "df['BST_banks'].value_counts().plot(kind='bar', figsize=(3,3), title='Trust Bank Service Fully', color='#800080')"
   ]
  },
  {
   "cell_type": "code",
   "execution_count": 129,
   "id": "fd533ed6",
   "metadata": {},
   "outputs": [
    {
     "data": {
      "text/plain": [
       "1.0     4\n",
       "3.0    34\n",
       "2.0    40\n",
       "Name: BST_technology, dtype: int64"
      ]
     },
     "execution_count": 129,
     "metadata": {},
     "output_type": "execute_result"
    }
   ],
   "source": [
    "df.BST_technology.value_counts().sort_values()"
   ]
  },
  {
   "cell_type": "code",
   "execution_count": 130,
   "id": "a40ed8d9",
   "metadata": {
    "scrolled": false
   },
   "outputs": [
    {
     "data": {
      "text/plain": [
       "<AxesSubplot:title={'center':'Trust in the technology of mobile banking'}>"
      ]
     },
     "execution_count": 130,
     "metadata": {},
     "output_type": "execute_result"
    },
    {
     "data": {
      "image/png": "[encoded data removed]",
      "text/plain": [
       "<Figure size 216x216 with 1 Axes>"
      ]
     },
     "metadata": {
      "needs_background": "light"
     },
     "output_type": "display_data"
    }
   ],
   "source": [
    "df.BST_technology.value_counts().plot(kind='bar', figsize=(3,3), \n",
    "                                      title='Trust in the technology of mobile banking', \n",
    "                                      color='#800080')"
   ]
  },
  {
   "cell_type": "code",
   "execution_count": 131,
   "id": "7783c2af",
   "metadata": {},
   "outputs": [
    {
     "data": {
      "text/plain": [
       "3.0    11\n",
       "1.0    23\n",
       "2.0    44\n",
       "Name: BST_thirdparty, dtype: int64"
      ]
     },
     "execution_count": 131,
     "metadata": {},
     "output_type": "execute_result"
    }
   ],
   "source": [
    "df.BST_thirdparty.value_counts().sort_values()"
   ]
  },
  {
   "cell_type": "code",
   "execution_count": 132,
   "id": "30008f51",
   "metadata": {},
   "outputs": [
    {
     "data": {
      "text/plain": [
       "<AxesSubplot:title={'center':'Trust in third party agent (e.g., pay outlet, cash-out point'}>"
      ]
     },
     "execution_count": 132,
     "metadata": {},
     "output_type": "execute_result"
    },
    {
     "data": {
      "image/png": "[encoded data removed]",
      "text/plain": [
       "<Figure size 216x216 with 1 Axes>"
      ]
     },
     "metadata": {
      "needs_background": "light"
     },
     "output_type": "display_data"
    }
   ],
   "source": [
    "df.BST_thirdparty.value_counts().plot(kind='bar', figsize=(3,3), \n",
    "                                      title='Trust in third party agent (e.g., pay outlet, cash-out point', \n",
    "                                      color='#800080')"
   ]
  },
  {
   "cell_type": "code",
   "execution_count": 133,
   "id": "d8fe5a6b",
   "metadata": {},
   "outputs": [
    {
     "data": {
      "text/plain": [
       "1.0    10\n",
       "3.0    16\n",
       "2.0    52\n",
       "Name: Security, dtype: int64"
      ]
     },
     "execution_count": 133,
     "metadata": {},
     "output_type": "execute_result"
    }
   ],
   "source": [
    "df.Security.value_counts().sort_values()"
   ]
  },
  {
   "cell_type": "code",
   "execution_count": 134,
   "id": "92f1caf0",
   "metadata": {},
   "outputs": [
    {
     "data": {
      "text/plain": [
       "<AxesSubplot:title={'center':'Security from fraud'}>"
      ]
     },
     "execution_count": 134,
     "metadata": {},
     "output_type": "execute_result"
    },
    {
     "data": {
      "image/png": "[encoded data removed]",
      "text/plain": [
       "<Figure size 216x216 with 1 Axes>"
      ]
     },
     "metadata": {
      "needs_background": "light"
     },
     "output_type": "display_data"
    }
   ],
   "source": [
    "df.Security.value_counts().plot(kind='bar', figsize=(3,3), title='Security from fraud', color='#800080')"
   ]
  },
  {
   "cell_type": "code",
   "execution_count": 135,
   "id": "013a77d5",
   "metadata": {},
   "outputs": [
    {
     "data": {
      "text/plain": [
       "1.0     3\n",
       "2.0    18\n",
       "3.0    57\n",
       "Name: Usage, dtype: int64"
      ]
     },
     "execution_count": 135,
     "metadata": {},
     "output_type": "execute_result"
    }
   ],
   "source": [
    "df.Usage.value_counts().sort_values()"
   ]
  },
  {
   "cell_type": "code",
   "execution_count": 136,
   "id": "09a8f7f2",
   "metadata": {},
   "outputs": [
    {
     "data": {
      "text/plain": [
       "<AxesSubplot:title={'center':'Ease of use'}>"
      ]
     },
     "execution_count": 136,
     "metadata": {},
     "output_type": "execute_result"
    },
    {
     "data": {
      "image/png": "[encoded data removed]",
      "text/plain": [
       "<Figure size 216x216 with 1 Axes>"
      ]
     },
     "metadata": {
      "needs_background": "light"
     },
     "output_type": "display_data"
    }
   ],
   "source": [
    "df.Usage.value_counts().plot(kind='bar', figsize=(3,3), title='Ease of use', color='#800080')"
   ]
  },
  {
   "cell_type": "code",
   "execution_count": 137,
   "id": "8d5a725f",
   "metadata": {},
   "outputs": [
    {
     "data": {
      "text/plain": [
       "1.0    13\n",
       "3.0    25\n",
       "2.0    40\n",
       "Name: Cost, dtype: int64"
      ]
     },
     "execution_count": 137,
     "metadata": {},
     "output_type": "execute_result"
    }
   ],
   "source": [
    "df.Cost.value_counts().sort_values()"
   ]
  },
  {
   "cell_type": "code",
   "execution_count": 138,
   "id": "6622c454",
   "metadata": {},
   "outputs": [
    {
     "data": {
      "text/plain": [
       "<AxesSubplot:title={'center':'Cost saving'}>"
      ]
     },
     "execution_count": 138,
     "metadata": {},
     "output_type": "execute_result"
    },
    {
     "data": {
      "image/png": "[encoded data removed]",
      "text/plain": [
       "<Figure size 216x216 with 1 Axes>"
      ]
     },
     "metadata": {
      "needs_background": "light"
     },
     "output_type": "display_data"
    }
   ],
   "source": [
    "df.Cost.value_counts().plot(kind='bar', figsize=(3,3), title='Cost saving', color='#800080')"
   ]
  },
  {
   "cell_type": "code",
   "execution_count": 139,
   "id": "32b7a184",
   "metadata": {},
   "outputs": [
    {
     "data": {
      "text/plain": [
       "1.0     4\n",
       "2.0    11\n",
       "3.0    63\n",
       "Name: Time, dtype: int64"
      ]
     },
     "execution_count": 139,
     "metadata": {},
     "output_type": "execute_result"
    }
   ],
   "source": [
    "df.Time.value_counts().sort_values()"
   ]
  },
  {
   "cell_type": "code",
   "execution_count": 140,
   "id": "7e8cdba9",
   "metadata": {},
   "outputs": [
    {
     "data": {
      "text/plain": [
       "<AxesSubplot:title={'center':'Time saving (no need to go to bank or ATM)'}>"
      ]
     },
     "execution_count": 140,
     "metadata": {},
     "output_type": "execute_result"
    },
    {
     "data": {
      "image/png": "[encoded data removed]",
      "text/plain": [
       "<Figure size 216x216 with 1 Axes>"
      ]
     },
     "metadata": {
      "needs_background": "light"
     },
     "output_type": "display_data"
    }
   ],
   "source": [
    "df.Time.value_counts().plot(kind='bar', figsize=(3,3), \n",
    "                                     title='Time saving (no need to go to bank or ATM)', \n",
    "                                     color='#800080')"
   ]
  },
  {
   "cell_type": "code",
   "execution_count": 141,
   "id": "7fc4d338",
   "metadata": {},
   "outputs": [
    {
     "data": {
      "text/plain": [
       "1.0     4\n",
       "2.0    11\n",
       "3.0    63\n",
       "Name: Access, dtype: int64"
      ]
     },
     "execution_count": 141,
     "metadata": {},
     "output_type": "execute_result"
    }
   ],
   "source": [
    "df.Access.value_counts().sort_values()"
   ]
  },
  {
   "cell_type": "code",
   "execution_count": 142,
   "id": "e92c9d37",
   "metadata": {},
   "outputs": [
    {
     "data": {
      "text/plain": [
       "<AxesSubplot:title={'center':'24 h Access (can make transaction any time)'}>"
      ]
     },
     "execution_count": 142,
     "metadata": {},
     "output_type": "execute_result"
    },
    {
     "data": {
      "image/png": "[encoded data removed]",
      "text/plain": [
       "<Figure size 216x216 with 1 Axes>"
      ]
     },
     "metadata": {
      "needs_background": "light"
     },
     "output_type": "display_data"
    }
   ],
   "source": [
    "df.Access.value_counts().plot(kind='bar', figsize=(3,3), \n",
    "                              title='24 h Access (can make transaction any time)', \n",
    "                              color='#800080')"
   ]
  },
  {
   "cell_type": "code",
   "execution_count": 143,
   "id": "21ad093b",
   "metadata": {},
   "outputs": [
    {
     "data": {
      "text/plain": [
       "1.0     5\n",
       "2.0    13\n",
       "3.0    60\n",
       "Name: Physical_security, dtype: int64"
      ]
     },
     "execution_count": 143,
     "metadata": {},
     "output_type": "execute_result"
    }
   ],
   "source": [
    "df.Physical_security.value_counts().sort_values()"
   ]
  },
  {
   "cell_type": "code",
   "execution_count": 144,
   "id": "1bc52d65",
   "metadata": {},
   "outputs": [
    {
     "data": {
      "text/plain": [
       "<AxesSubplot:title={'center':'Physical security (no need to go out with cash)'}>"
      ]
     },
     "execution_count": 144,
     "metadata": {},
     "output_type": "execute_result"
    },
    {
     "data": {
      "image/png": "[encoded data removed]",
      "text/plain": [
       "<Figure size 216x216 with 1 Axes>"
      ]
     },
     "metadata": {
      "needs_background": "light"
     },
     "output_type": "display_data"
    }
   ],
   "source": [
    "df.Physical_security.value_counts().plot(kind='bar', figsize=(3,3), \n",
    "                                         title='Physical security (no need to go out with cash)', \n",
    "                                         color='#800080')"
   ]
  },
  {
   "cell_type": "code",
   "execution_count": 145,
   "id": "86191679",
   "metadata": {},
   "outputs": [
    {
     "data": {
      "text/plain": [
       "1.0     5\n",
       "3.0     7\n",
       "2.0    66\n",
       "Name: Specifics, dtype: int64"
      ]
     },
     "execution_count": 145,
     "metadata": {},
     "output_type": "execute_result"
    }
   ],
   "source": [
    "df.Specifics.value_counts().sort_values()"
   ]
  },
  {
   "cell_type": "code",
   "execution_count": 146,
   "id": "b2aacee0",
   "metadata": {},
   "outputs": [
    {
     "data": {
      "text/plain": [
       "<AxesSubplot:title={'center':'Other Benefits Mobile Banking'}>"
      ]
     },
     "execution_count": 146,
     "metadata": {},
     "output_type": "execute_result"
    },
    {
     "data": {
      "image/png": "[encoded data removed]",
      "text/plain": [
       "<Figure size 216x216 with 1 Axes>"
      ]
     },
     "metadata": {
      "needs_background": "light"
     },
     "output_type": "display_data"
    }
   ],
   "source": [
    "df.Specifics.value_counts().plot(kind='bar', figsize=(3,3), title='Other Benefits Mobile Banking', color='#800080')"
   ]
  },
  {
   "cell_type": "code",
   "execution_count": 147,
   "id": "f6b5bbf0",
   "metadata": {},
   "outputs": [
    {
     "data": {
      "text/plain": [
       "3.0    20\n",
       "1.0    27\n",
       "2.0    31\n",
       "Name: LTC_Importance, dtype: int64"
      ]
     },
     "execution_count": 147,
     "metadata": {},
     "output_type": "execute_result"
    }
   ],
   "source": [
    "df.LTC_Importance.value_counts().sort_values()"
   ]
  },
  {
   "cell_type": "code",
   "execution_count": 148,
   "id": "4e1483c1",
   "metadata": {},
   "outputs": [
    {
     "data": {
      "text/plain": [
       "<AxesSubplot:title={'center':'Lower transaction costs'}>"
      ]
     },
     "execution_count": 148,
     "metadata": {},
     "output_type": "execute_result"
    },
    {
     "data": {
      "image/png": "[encoded data removed]",
      "text/plain": [
       "<Figure size 216x216 with 1 Axes>"
      ]
     },
     "metadata": {
      "needs_background": "light"
     },
     "output_type": "display_data"
    }
   ],
   "source": [
    "df.LTC_Importance.value_counts().plot(kind='bar', figsize=(3,3), title='Lower transaction costs', color='#800080')"
   ]
  },
  {
   "cell_type": "code",
   "execution_count": 149,
   "id": "c7e5cf48",
   "metadata": {},
   "outputs": [
    {
     "data": {
      "text/plain": [
       "3.0    17\n",
       "1.0    26\n",
       "2.0    35\n",
       "Name: SFF_Importance, dtype: int64"
      ]
     },
     "execution_count": 149,
     "metadata": {},
     "output_type": "execute_result"
    }
   ],
   "source": [
    "df.SFF_Importance.value_counts().sort_values()"
   ]
  },
  {
   "cell_type": "code",
   "execution_count": 150,
   "id": "85fdc86f",
   "metadata": {
    "scrolled": true
   },
   "outputs": [
    {
     "data": {
      "text/plain": [
       "<AxesSubplot:title={'center':'security from fraud'}>"
      ]
     },
     "execution_count": 150,
     "metadata": {},
     "output_type": "execute_result"
    },
    {
     "data": {
      "image/png": "[encoded data removed]",
      "text/plain": [
       "<Figure size 216x216 with 1 Axes>"
      ]
     },
     "metadata": {
      "needs_background": "light"
     },
     "output_type": "display_data"
    }
   ],
   "source": [
    "df.SFF_Importance.value_counts().plot(kind='bar', figsize=(3,3), title='security from fraud', color='#800080')"
   ]
  },
  {
   "cell_type": "code",
   "execution_count": 151,
   "id": "bfea429a",
   "metadata": {},
   "outputs": [
    {
     "data": {
      "text/plain": [
       "3.0    22\n",
       "1.0    27\n",
       "2.0    29\n",
       "Name: PS_Importance, dtype: int64"
      ]
     },
     "execution_count": 151,
     "metadata": {},
     "output_type": "execute_result"
    }
   ],
   "source": [
    "df.PS_Importance.value_counts().sort_values()"
   ]
  },
  {
   "cell_type": "code",
   "execution_count": 152,
   "id": "f144b193",
   "metadata": {},
   "outputs": [
    {
     "data": {
      "text/plain": [
       "<AxesSubplot:title={'center':'Physical Security'}>"
      ]
     },
     "execution_count": 152,
     "metadata": {},
     "output_type": "execute_result"
    },
    {
     "data": {
      "image/png": "[encoded data removed]",
      "text/plain": [
       "<Figure size 216x216 with 1 Axes>"
      ]
     },
     "metadata": {
      "needs_background": "light"
     },
     "output_type": "display_data"
    }
   ],
   "source": [
    "df.PS_Importance.value_counts().plot(kind='bar', figsize=(3,3), title='Physical Security', color='#800080')"
   ]
  },
  {
   "cell_type": "code",
   "execution_count": 153,
   "id": "7afd0c48",
   "metadata": {},
   "outputs": [
    {
     "data": {
      "text/plain": [
       "2.0    19\n",
       "3.0    29\n",
       "1.0    30\n",
       "Name: Feedback_Importance, dtype: int64"
      ]
     },
     "execution_count": 153,
     "metadata": {},
     "output_type": "execute_result"
    }
   ],
   "source": [
    "df.Feedback_Importance.value_counts().sort_values()"
   ]
  },
  {
   "cell_type": "code",
   "execution_count": 154,
   "id": "5d7aaf54",
   "metadata": {},
   "outputs": [
    {
     "data": {
      "text/plain": [
       "<AxesSubplot:title={'center':'Safe transaction with feedback on transfer (e.g. sms)'}>"
      ]
     },
     "execution_count": 154,
     "metadata": {},
     "output_type": "execute_result"
    },
    {
     "data": {
      "image/png": "[encoded data removed]",
      "text/plain": [
       "<Figure size 216x216 with 1 Axes>"
      ]
     },
     "metadata": {
      "needs_background": "light"
     },
     "output_type": "display_data"
    }
   ],
   "source": [
    "df.Feedback_Importance.value_counts().plot(kind='bar', figsize=(3,3), \n",
    "                                           title='Safe transaction with feedback on transfer (e.g. sms)', \n",
    "                                           color='#800080')"
   ]
  },
  {
   "cell_type": "code",
   "execution_count": 155,
   "id": "13902b9a",
   "metadata": {},
   "outputs": [
    {
     "data": {
      "text/plain": [
       "3.0    24\n",
       "2.0    25\n",
       "1.0    29\n",
       "Name: Range_Importance, dtype: int64"
      ]
     },
     "execution_count": 155,
     "metadata": {},
     "output_type": "execute_result"
    }
   ],
   "source": [
    "df.Range_Importance.value_counts().sort_values()"
   ]
  },
  {
   "cell_type": "code",
   "execution_count": 156,
   "id": "2f42e86a",
   "metadata": {},
   "outputs": [
    {
     "data": {
      "text/plain": [
       "<AxesSubplot:title={'center':'Wide acceptance of mobile money'}>"
      ]
     },
     "execution_count": 156,
     "metadata": {},
     "output_type": "execute_result"
    },
    {
     "data": {
      "image/png": "[encoded data removed]",
      "text/plain": [
       "<Figure size 216x216 with 1 Axes>"
      ]
     },
     "metadata": {
      "needs_background": "light"
     },
     "output_type": "display_data"
    }
   ],
   "source": [
    "df.Range_Importance.value_counts().plot(kind='bar', figsize=(3,3), \n",
    "                                        title='Wide acceptance of mobile money', \n",
    "                                        color='#800080')"
   ]
  },
  {
   "cell_type": "code",
   "execution_count": 157,
   "id": "9e6d55a8",
   "metadata": {},
   "outputs": [
    {
     "data": {
      "text/plain": [
       "3.0    23\n",
       "1.0    23\n",
       "2.0    32\n",
       "Name: TA__Importance, dtype: int64"
      ]
     },
     "execution_count": 157,
     "metadata": {},
     "output_type": "execute_result"
    }
   ],
   "source": [
    "df.TA__Importance.value_counts().sort_values()"
   ]
  },
  {
   "cell_type": "code",
   "execution_count": 158,
   "id": "856d524f",
   "metadata": {},
   "outputs": [
    {
     "data": {
      "text/plain": [
       "<AxesSubplot:title={'center':'More locations I can cash-out my money'}>"
      ]
     },
     "execution_count": 158,
     "metadata": {},
     "output_type": "execute_result"
    },
    {
     "data": {
      "image/png": "[encoded data removed]",
      "text/plain": [
       "<Figure size 216x216 with 1 Axes>"
      ]
     },
     "metadata": {
      "needs_background": "light"
     },
     "output_type": "display_data"
    }
   ],
   "source": [
    "df.TA__Importance.value_counts().plot(kind='bar', figsize=(3,3), \n",
    "                                      title='More locations I can cash-out my money', \n",
    "                                      color='#800080')"
   ]
  },
  {
   "cell_type": "code",
   "execution_count": 159,
   "id": "0d673dbd",
   "metadata": {},
   "outputs": [
    {
     "data": {
      "text/plain": [
       "3.0     6\n",
       "1.0     9\n",
       "2.0    63\n",
       "Name: Specific_Importance, dtype: int64"
      ]
     },
     "execution_count": 159,
     "metadata": {},
     "output_type": "execute_result"
    }
   ],
   "source": [
    "df.Specific_Importance.value_counts().sort_values()"
   ]
  },
  {
   "cell_type": "code",
   "execution_count": 160,
   "id": "e62da6cb",
   "metadata": {},
   "outputs": [
    {
     "data": {
      "text/plain": [
       "<AxesSubplot:title={'center':'Other Specific Importance of Mobile Banking'}>"
      ]
     },
     "execution_count": 160,
     "metadata": {},
     "output_type": "execute_result"
    },
    {
     "data": {
      "image/png": "[encoded data removed]",
      "text/plain": [
       "<Figure size 216x216 with 1 Axes>"
      ]
     },
     "metadata": {
      "needs_background": "light"
     },
     "output_type": "display_data"
    }
   ],
   "source": [
    "df.Specific_Importance.value_counts().plot(kind='bar', figsize=(3,3), \n",
    "                                           title='Other Specific Importance of Mobile Banking', \n",
    "                                           color='#800080')"
   ]
  },
  {
   "cell_type": "code",
   "execution_count": null,
   "id": "d5f38d60",
   "metadata": {},
   "outputs": [],
   "source": []
  }
 ],
 "metadata": {
  "kernelspec": {
   "display_name": "Python 3",
   "language": "python",
   "name": "python3"
  },
  "language_info": {
   "codemirror_mode": {
    "name": "ipython",
    "version": 3
   },
   "file_extension": ".py",
   "mimetype": "text/x-python",
   "name": "python",
   "nbconvert_exporter": "python",
   "pygments_lexer": "ipython3",
   "version": "3.8.8"
  }
 },
 "nbformat": 4,
 "nbformat_minor": 5
}
